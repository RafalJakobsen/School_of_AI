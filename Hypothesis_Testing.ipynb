{
  "nbformat": 4,
  "nbformat_minor": 0,
  "metadata": {
    "colab": {
      "name": "Hypothesis Testing.ipynb",
      "version": "0.3.2",
      "provenance": [],
      "collapsed_sections": [],
      "include_colab_link": true
    },
    "kernelspec": {
      "name": "python3",
      "display_name": "Python 3"
    }
  },
  "cells": [
    {
      "cell_type": "markdown",
      "metadata": {
        "id": "view-in-github",
        "colab_type": "text"
      },
      "source": [
        "<a href=\"https://colab.research.google.com/github/RafalJakobsen/School_of_AI/blob/master/Hypothesis_Testing.ipynb\" target=\"_parent\"><img src=\"https://colab.research.google.com/assets/colab-badge.svg\" alt=\"Open In Colab\"/></a>"
      ]
    },
    {
      "cell_type": "markdown",
      "metadata": {
        "id": "TEFbe5vwQw-j",
        "colab_type": "text"
      },
      "source": [
        "<h1> Hypothesis Testing </h1>\n",
        "\n",
        "<h2> Hypothesis Testing and the T-Test </h2>\n",
        "\n",
        "<h3> Source: \n",
        " \n",
        "  [1](http://hamelg.blogspot.com/2015/11/python-for-data-analysis-part-24.html) \n",
        "  [2](https://www.theschool.ai/courses/data-lit/lessons/reading-assignment-hypothesis-testing/)\n",
        "  \n",
        "  \n",
        "  </h3>\n",
        "  \n",
        "  <h3> Intro </h3>\n",
        "  \n",
        "<p>\n",
        "  While working on the Data Lit | School of AI course I get introduced to reading assignment / homework along the way, you can follow my journey on my colab notebook, my hope is that both me and you can reuse this in the future.\n",
        "\n",
        "\n",
        "*I always like to have well documented notes. + I get to improve my HTML skill wrting on Colab.*\n",
        "  \n",
        "  Win, win for everyone!\n",
        "</p>\n",
        "\n",
        "<h3> Hypothesis Testing Basics </h3>\n"
      ]
    },
    {
      "cell_type": "markdown",
      "metadata": {
        "id": "QEZjurwIUbb1",
        "colab_type": "text"
      },
      "source": [
        "**%matplotlib inline** sets the backend of matplotlib to the 'inline' backend:\n",
        "\n",
        "With this backend, the output of plotting commands is displayed inline within frontends like the Jupyter notebook, directly below the code cell that produced it. The resulting plots will then also be stored in the notebook document.\n",
        "\n",
        "\n",
        "<h3> One-Sample T-Test </h3>\n",
        "A one-sample t-test checks whether a sample mean differs from the population mean. "
      ]
    },
    {
      "cell_type": "code",
      "metadata": {
        "id": "1bwZi5DzQkD3",
        "colab_type": "code",
        "colab": {}
      },
      "source": [
        "#%matplotlib sets the backend of matplotlib to the 'inline' backend:\n",
        "#With this backend, the output of plotting commands is displayed inline within frontends like the Jupyter notebook, directly below the code cell that produced it. \n",
        "#The resulting plots will then also be stored in the notebook document.\n",
        "%matplotlib inline"
      ],
      "execution_count": 0,
      "outputs": []
    },
    {
      "cell_type": "code",
      "metadata": {
        "id": "c3nlpp_nYI9z",
        "colab_type": "code",
        "colab": {}
      },
      "source": [
        "import numpy as np\n",
        "import pandas as pd\n",
        "import scipy.stats as stats\n",
        "import matplotlib.pyplot as plt\n",
        "import math"
      ],
      "execution_count": 0,
      "outputs": []
    },
    {
      "cell_type": "code",
      "metadata": {
        "id": "5OVTait2YLYE",
        "colab_type": "code",
        "outputId": "361bcb7f-7766-4c94-87f9-02a9cce9f5a7",
        "colab": {
          "base_uri": "https://localhost:8080/",
          "height": 51
        }
      },
      "source": [
        "np.random.seed(6)\n",
        "\n",
        "population_ages1 = stats.poisson.rvs(loc = 18, mu = 35, size = 150000)\n",
        "population_ages2 = stats.poisson.rvs(loc = 18, mu = 10, size = 100000)\n",
        "population_ages = np.concatenate((population_ages1, population_ages2))\n",
        "\n",
        "minnesota_ages1 = stats.poisson.rvs(loc = 18, mu = 30, size = 100000)\n",
        "minnesota_ages2 = stats.poisson.rvs(loc = 18, mu = 10, size = 20)\n",
        "minnesota_ages = np.concatenate((minnesota_ages1, minnesota_ages2))\n",
        "\n",
        "print(\"Population Ages Mean:\" , population_ages.mean())\n",
        "print(\"Minnesota Ages Mean:\" , minnesota_ages.mean())"
      ],
      "execution_count": 0,
      "outputs": [
        {
          "output_type": "stream",
          "text": [
            "Population Ages Mean: 43.000112\n",
            "Minnesota Ages Mean: 48.00888822235553\n"
          ],
          "name": "stdout"
        }
      ]
    },
    {
      "cell_type": "code",
      "metadata": {
        "id": "7rtA1T9kbQ4Z",
        "colab_type": "code",
        "outputId": "a1401936-aa24-4bc4-a829-73f44aa8fa2a",
        "colab": {
          "base_uri": "https://localhost:8080/",
          "height": 34
        }
      },
      "source": [
        "stats.ttest_1samp(a = minnesota_ages, #sample data\n",
        "                 popmean = population_ages.mean()) # pop Mean"
      ],
      "execution_count": 0,
      "outputs": [
        {
          "output_type": "execute_result",
          "data": {
            "text/plain": [
              "Ttest_1sampResult(statistic=288.6912310255665, pvalue=0.0)"
            ]
          },
          "metadata": {
            "tags": []
          },
          "execution_count": 4
        }
      ]
    },
    {
      "cell_type": "markdown",
      "metadata": {
        "id": "UKVdv_zFcPkq",
        "colab_type": "text"
      },
      "source": [
        "We can check the quantiles with stats.t.ppf():"
      ]
    },
    {
      "cell_type": "code",
      "metadata": {
        "id": "PLheEOPmb_jl",
        "colab_type": "code",
        "outputId": "9104cecd-73bd-4ca4-f607-bd4fede78f39",
        "colab": {
          "base_uri": "https://localhost:8080/",
          "height": 34
        }
      },
      "source": [
        "stats.t.ppf(q = 0.025, # quantile to check\n",
        "           df = 49 )   # degrees of freedom"
      ],
      "execution_count": 0,
      "outputs": [
        {
          "output_type": "execute_result",
          "data": {
            "text/plain": [
              "-2.0095752344892093"
            ]
          },
          "metadata": {
            "tags": []
          },
          "execution_count": 5
        }
      ]
    },
    {
      "cell_type": "code",
      "metadata": {
        "id": "YI180upWdFdp",
        "colab_type": "code",
        "outputId": "677b59f4-d9b9-4a4d-e70f-e5fcde9306b5",
        "colab": {
          "base_uri": "https://localhost:8080/",
          "height": 34
        }
      },
      "source": [
        "stats.t.ppf(q = 0.975,  # quantile to check\n",
        "            df = 49 )   # degrees of freedom"
      ],
      "execution_count": 0,
      "outputs": [
        {
          "output_type": "execute_result",
          "data": {
            "text/plain": [
              "2.009575234489209"
            ]
          },
          "metadata": {
            "tags": []
          },
          "execution_count": 6
        }
      ]
    },
    {
      "cell_type": "markdown",
      "metadata": {
        "id": "tDssdFU1d4KX",
        "colab_type": "text"
      },
      "source": [
        "We can calculate the chances of seeing a result as extreme as the one we observed (known as the p-value) by passing the t-statistic in as the quantile to the stats.t.cdf() function:\n"
      ]
    },
    {
      "cell_type": "code",
      "metadata": {
        "id": "AnRa1meCdkJ0",
        "colab_type": "code",
        "outputId": "3bc914e9-f32d-4caf-d8c6-e3ad175ac26e",
        "colab": {
          "base_uri": "https://localhost:8080/",
          "height": 34
        }
      },
      "source": [
        "stats.t.cdf(x = 2.5742,  #t-test statistic\n",
        "           df = 49) * 2  #multiply by two for two tailed test*\n",
        "  "
      ],
      "execution_count": 0,
      "outputs": [
        {
          "output_type": "execute_result",
          "data": {
            "text/plain": [
              "1.9868789334543098"
            ]
          },
          "metadata": {
            "tags": []
          },
          "execution_count": 7
        }
      ]
    },
    {
      "cell_type": "markdown",
      "metadata": {
        "id": "hMQz9wNSequp",
        "colab_type": "text"
      },
      "source": [
        "\n",
        "*Note: The alternative hypothesis we are checking is whether the sample mean differs (is not equal to) the population mean. Since the sample could differ in either the positive or negative direction we multiply the by two."
      ]
    },
    {
      "cell_type": "code",
      "metadata": {
        "id": "ItazSbxRetmq",
        "colab_type": "code",
        "outputId": "0b981feb-119b-4b34-b0c5-050b6d090663",
        "colab": {
          "base_uri": "https://localhost:8080/",
          "height": 34
        }
      },
      "source": [
        "sigma = minnesota_ages.std()/math.sqrt(50)  # Sample stdev/sample size\n",
        "\n",
        "stats.t.interval(0.95,                        # Confidence level\n",
        "                 df = 49,                     # Degrees of freedom\n",
        "                 loc = minnesota_ages.mean(), # Sample mean\n",
        "                 scale= sigma)                # Standard dev estimate"
      ],
      "execution_count": 0,
      "outputs": [
        {
          "output_type": "execute_result",
          "data": {
            "text/plain": [
              "(46.449484528871785, 49.568291915839275)"
            ]
          },
          "metadata": {
            "tags": []
          },
          "execution_count": 8
        }
      ]
    },
    {
      "cell_type": "code",
      "metadata": {
        "id": "BbJs35WggJcd",
        "colab_type": "code",
        "outputId": "3c32e615-2905-4724-c44e-a8a5624d81fc",
        "colab": {
          "base_uri": "https://localhost:8080/",
          "height": 34
        }
      },
      "source": [
        "stats.t.interval(alpha = 0.99,                # Confidence level\n",
        "                 df = 49,                     # Degrees of freedom\n",
        "                 loc = minnesota_ages.mean(), # Sample mean\n",
        "                 scale= sigma)                # Standard dev estimate"
      ],
      "execution_count": 0,
      "outputs": [
        {
          "output_type": "execute_result",
          "data": {
            "text/plain": [
              "(45.92928108234102, 50.08849536237004)"
            ]
          },
          "metadata": {
            "tags": []
          },
          "execution_count": 9
        }
      ]
    },
    {
      "cell_type": "markdown",
      "metadata": {
        "id": "5iwJAQQmvoEP",
        "colab_type": "text"
      },
      "source": [
        "<h3> Two-Sample T-Test </h3>\n",
        "\n",
        "\n",
        "A two-sample t-test investigates whether the means of two independent data samples differ from one another. In a two-sample test, the null hypothesis is that the means of both groups are the same."
      ]
    },
    {
      "cell_type": "code",
      "metadata": {
        "id": "DcGABJTDvymN",
        "colab_type": "code",
        "outputId": "6596a1b9-0151-41ee-a02b-321c88eb1ef5",
        "colab": {
          "base_uri": "https://localhost:8080/",
          "height": 34
        }
      },
      "source": [
        "np.random.seed(12)\n",
        "wisconsin_ages1 = stats.poisson.rvs(loc = 18, mu = 33, size = 30)\n",
        "wisconsin_ages2 = stats.poisson.rvs(loc = 18, mu = 13, size = 20)\n",
        "wisconsin_ages = np.concatenate((wisconsin_ages1, wisconsin_ages2))\n",
        "\n",
        "print( wisconsin_ages.mean() )"
      ],
      "execution_count": 0,
      "outputs": [
        {
          "output_type": "stream",
          "text": [
            "42.8\n"
          ],
          "name": "stdout"
        }
      ]
    },
    {
      "cell_type": "code",
      "metadata": {
        "id": "bVPeA-uOwjfy",
        "colab_type": "code",
        "outputId": "6729a79b-afb0-4794-be28-6c2ec16869de",
        "colab": {
          "base_uri": "https://localhost:8080/",
          "height": 34
        }
      },
      "source": [
        "stats.ttest_ind(a = minnesota_ages,\n",
        "               b = wisconsin_ages,\n",
        "               equal_var = False) # Assume samples have equal variance?***"
      ],
      "execution_count": 0,
      "outputs": [
        {
          "output_type": "execute_result",
          "data": {
            "text/plain": [
              "Ttest_indResult(statistic=3.5253516013476958, pvalue=0.0009278164984414271)"
            ]
          },
          "metadata": {
            "tags": []
          },
          "execution_count": 18
        }
      ]
    },
    {
      "cell_type": "markdown",
      "metadata": {
        "id": "HXwPrp4Qx-NQ",
        "colab_type": "text"
      },
      "source": [
        "<h3> Paired T-Test </h3>\n",
        "The basic two sample t-test is designed for testing differences between independent groups.\n",
        "\n",
        "We can conduct a paired t-test using the scipy function stats.ttest_rel(). \n"
      ]
    },
    {
      "cell_type": "code",
      "metadata": {
        "id": "g4FjLWzbyF3K",
        "colab_type": "code",
        "outputId": "fc86a933-4c04-4582-88d9-3318ee760919",
        "colab": {
          "base_uri": "https://localhost:8080/",
          "height": 297
        }
      },
      "source": [
        "np.random.seed(11)\n",
        "before = stats.norm.rvs(scale=30, loc=250, size=100)\n",
        "after = before + stats.norm.rvs(scale = 5, loc = 1.25, size = 100)\n",
        "\n",
        "weight_df = pd.DataFrame({\"weight_before\":before,\n",
        "                         \"weight_after\":after,\n",
        "                         \"weight_change\":after-before})\n",
        "\n",
        "weight_df.describe() #Check a summary of the data"
      ],
      "execution_count": 0,
      "outputs": [
        {
          "output_type": "execute_result",
          "data": {
            "text/html": [
              "<div>\n",
              "<style scoped>\n",
              "    .dataframe tbody tr th:only-of-type {\n",
              "        vertical-align: middle;\n",
              "    }\n",
              "\n",
              "    .dataframe tbody tr th {\n",
              "        vertical-align: top;\n",
              "    }\n",
              "\n",
              "    .dataframe thead th {\n",
              "        text-align: right;\n",
              "    }\n",
              "</style>\n",
              "<table border=\"1\" class=\"dataframe\">\n",
              "  <thead>\n",
              "    <tr style=\"text-align: right;\">\n",
              "      <th></th>\n",
              "      <th>weight_before</th>\n",
              "      <th>weight_after</th>\n",
              "      <th>weight_change</th>\n",
              "    </tr>\n",
              "  </thead>\n",
              "  <tbody>\n",
              "    <tr>\n",
              "      <th>count</th>\n",
              "      <td>100.000000</td>\n",
              "      <td>100.000000</td>\n",
              "      <td>100.000000</td>\n",
              "    </tr>\n",
              "    <tr>\n",
              "      <th>mean</th>\n",
              "      <td>250.345546</td>\n",
              "      <td>251.615171</td>\n",
              "      <td>1.269625</td>\n",
              "    </tr>\n",
              "    <tr>\n",
              "      <th>std</th>\n",
              "      <td>28.132539</td>\n",
              "      <td>28.422183</td>\n",
              "      <td>4.783696</td>\n",
              "    </tr>\n",
              "    <tr>\n",
              "      <th>min</th>\n",
              "      <td>170.400443</td>\n",
              "      <td>168.413930</td>\n",
              "      <td>-8.995286</td>\n",
              "    </tr>\n",
              "    <tr>\n",
              "      <th>25%</th>\n",
              "      <td>230.421042</td>\n",
              "      <td>231.648236</td>\n",
              "      <td>-1.546211</td>\n",
              "    </tr>\n",
              "    <tr>\n",
              "      <th>50%</th>\n",
              "      <td>250.830805</td>\n",
              "      <td>253.634089</td>\n",
              "      <td>1.086537</td>\n",
              "    </tr>\n",
              "    <tr>\n",
              "      <th>75%</th>\n",
              "      <td>270.637145</td>\n",
              "      <td>271.427258</td>\n",
              "      <td>4.238673</td>\n",
              "    </tr>\n",
              "    <tr>\n",
              "      <th>max</th>\n",
              "      <td>314.700233</td>\n",
              "      <td>319.220357</td>\n",
              "      <td>12.259282</td>\n",
              "    </tr>\n",
              "  </tbody>\n",
              "</table>\n",
              "</div>"
            ],
            "text/plain": [
              "       weight_before  weight_after  weight_change\n",
              "count     100.000000    100.000000     100.000000\n",
              "mean      250.345546    251.615171       1.269625\n",
              "std        28.132539     28.422183       4.783696\n",
              "min       170.400443    168.413930      -8.995286\n",
              "25%       230.421042    231.648236      -1.546211\n",
              "50%       250.830805    253.634089       1.086537\n",
              "75%       270.637145    271.427258       4.238673\n",
              "max       314.700233    319.220357      12.259282"
            ]
          },
          "metadata": {
            "tags": []
          },
          "execution_count": 20
        }
      ]
    },
    {
      "cell_type": "code",
      "metadata": {
        "id": "QyMhTodL0TOF",
        "colab_type": "code",
        "outputId": "66b54f38-2b18-4a77-89c6-2e2b053390a7",
        "colab": {
          "base_uri": "https://localhost:8080/",
          "height": 34
        }
      },
      "source": [
        "\n",
        "stats.ttest_rel(a = before,\n",
        "                b = after)"
      ],
      "execution_count": 0,
      "outputs": [
        {
          "output_type": "execute_result",
          "data": {
            "text/plain": [
              "Ttest_relResult(statistic=-2.6540671054984104, pvalue=0.009266778228120703)"
            ]
          },
          "metadata": {
            "tags": []
          },
          "execution_count": 21
        }
      ]
    },
    {
      "cell_type": "markdown",
      "metadata": {
        "id": "aN8pMDT10kNG",
        "colab_type": "text"
      },
      "source": [
        "<h3>Type I and Type II Error </h3>\n",
        "\n",
        "**Type I error** describes a situation where you reject the null hypothesis when it is actually true. This type of error is also known as a \"false positive\" or \"false hit\". The type 1 error rate is equal to the significance level α, so setting a higher confidence level (and therefore lower alpha) reduces the chances of getting a false positive.\n",
        "\n",
        "**Type II error** describes a situation where you fail to reject the null hypothesis when it is actually false. Type II error is also known as a \"false negative\" or \"miss\". The higher your confidence level, the more likely you are to make a type II error."
      ]
    },
    {
      "cell_type": "code",
      "metadata": {
        "id": "Fsbshc2n0m1v",
        "colab_type": "code",
        "outputId": "03f98f82-92ea-4e3f-b488-9f8c3bc176c1",
        "colab": {
          "base_uri": "https://localhost:8080/",
          "height": 612
        }
      },
      "source": [
        "# The Figure instance returned will also be passed to new_figure_manager in the backends, which allows to hook custom Figure classes into the pyplot interface. \n",
        "#Additional kwargs will be passed to the Figure init function.\n",
        "plt.figure(figsize=(12,10))\n",
        "\n",
        "plt.fill_between(x = np.arange(-4,-2,0.01), \n",
        "                 y1 = stats.norm.pdf(np.arange(-4,-2,0.01)) ,\n",
        "                 facecolor = 'red',\n",
        "                 alpha = 0.35)\n",
        "\n",
        "plt.fill_between(x = np.arange(-2,2,0.01), \n",
        "                 y1 = stats.norm.pdf(np.arange(-2,2,0.01)) ,\n",
        "                 facecolor = 'black',\n",
        "                 alpha = 0.35)\n",
        "\n",
        "plt.fill_between(x = np.arange(2,4,0.01), \n",
        "                 y1 = stats.norm.pdf(np.arange(2,4,0.01)) ,\n",
        "                 facecolor = 'red',\n",
        "                 alpha = 0.5)\n",
        "\n",
        "plt.fill_between(x = np.arange(-4,-2,0.01), \n",
        "                 y1 = stats.norm.pdf(np.arange(-4,-2,0.01),loc=3, scale=2) ,\n",
        "                 facecolor = 'black',\n",
        "                 alpha = 0.35)\n",
        "\n",
        "plt.fill_between(x=np.arange(-2,2,0.01), \n",
        "                 y1 = stats.norm.pdf(np.arange(-2,2,0.01),loc=3, scale=2) ,\n",
        "                 facecolor = 'blue',\n",
        "                 alpha = 0.35)\n",
        "\n",
        "plt.fill_between(x=np.arange(2,10,0.01), \n",
        "                 y1 = stats.norm.pdf(np.arange(2,10,0.01),loc=3, scale=2),\n",
        "                 facecolor = 'black',\n",
        "                 alpha = 0.35)\n",
        "\n",
        "plt.text(x = -0.8, y = 0.15, s = \"Null Hypothesis\")\n",
        "plt.text(x = 2.5, y = 0.13, s = \"Alternative\")\n",
        "plt.text(x = 2.1, y = 0.01, s = \"Type 1 Error\")\n",
        "plt.text(x = -3.2, y = 0.01, s = \"Type 1 Error\")\n",
        "plt.text(x = 0, y = 0.02, s = \"Type 2 Error\")"
      ],
      "execution_count": 0,
      "outputs": [
        {
          "output_type": "execute_result",
          "data": {
            "text/plain": [
              "Text(0, 0.02, 'Type 2 Error')"
            ]
          },
          "metadata": {
            "tags": []
          },
          "execution_count": 27
        },
        {
          "output_type": "display_data",
          "data": {
            "image/png": "[encoded data removed]",
            "text/plain": [
              "<Figure size 864x720 with 1 Axes>"
            ]
          },
          "metadata": {
            "tags": []
          }
        }
      ]
    },
    {
      "cell_type": "markdown",
      "metadata": {
        "id": "Y5ivz0hVL5t6",
        "colab_type": "text"
      },
      "source": [
        "In the plot above, the red areas indicate type I errors assuming the alternative hypothesis is not different from the null for a two-sided test with a 95% confidence level.\n",
        "\n",
        "The blue area represents type II errors that occur when the alternative hypothesis is different from the null, as shown by the distribution on the right. \n",
        "\n",
        "Note that the Type II error rate is the area under the alternative distribution within the quantiles determined by the null distribution and the confidence level. We can calculate the type II error rate for the distributions above as follows:"
      ]
    },
    {
      "cell_type": "code",
      "metadata": {
        "id": "habAZLprL8-i",
        "colab_type": "code",
        "outputId": "6c1f81e6-1da4-40b7-bd85-7f240c3134d1",
        "colab": {
          "base_uri": "https://localhost:8080/",
          "height": 34
        }
      },
      "source": [
        "lower_quantile = stats.norm.ppf(0.025)  # Lower cutoff value\n",
        "upper_quantile = stats.norm.ppf(0.975)  # Upper cutoff value\n",
        "\n",
        "# Area under alternative, to the left the lower cutoff value\n",
        "low = stats.norm.cdf(lower_quantile,    \n",
        "                     loc = 3,             \n",
        "                     scale = 2)\n",
        "\n",
        "# Area under alternative, to the left the upper cutoff value\n",
        "high = stats.norm.cdf(upper_quantile, \n",
        "                      loc = 3, \n",
        "                      scale = 2)          \n",
        "\n",
        "# Area under the alternative, between the cutoffs (Type II error)\n",
        "high-low"
      ],
      "execution_count": 0,
      "outputs": [
        {
          "output_type": "execute_result",
          "data": {
            "text/plain": [
              "0.294956061112323"
            ]
          },
          "metadata": {
            "tags": []
          },
          "execution_count": 29
        }
      ]
    },
    {
      "cell_type": "markdown",
      "metadata": {
        "id": "h-owZgXVMTQN",
        "colab_type": "text"
      },
      "source": [
        "With the normal distributions above, we'd fail to reject the null hypothesis about 30% of the time because the distributions are close enough together that they have significant overlap."
      ]
    }
  ]
}